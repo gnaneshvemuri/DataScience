{
 "cells": [
  {
   "cell_type": "markdown",
   "metadata": {},
   "source": [
    "## 1. Write a function that inputs a number and prints the multiplication table of that number"
   ]
  },
  {
   "cell_type": "code",
   "execution_count": 99,
   "metadata": {
    "scrolled": false
   },
   "outputs": [
    {
     "name": "stdout",
     "output_type": "stream",
     "text": [
      "Enter Number10\n",
      "10 * 1 =   10\n",
      "10 * 2 =   20\n",
      "10 * 3 =   30\n",
      "10 * 4 =   40\n",
      "10 * 5 =   50\n",
      "10 * 6 =   60\n",
      "10 * 7 =   70\n",
      "10 * 8 =   80\n",
      "10 * 9 =   90\n",
      "10 * 10 =   100\n",
      "10 * 11 =   110\n",
      "10 * 12 =   120\n",
      "10 * 13 =   130\n",
      "10 * 14 =   140\n",
      "10 * 15 =   150\n",
      "10 * 16 =   160\n",
      "10 * 17 =   170\n",
      "10 * 18 =   180\n",
      "10 * 19 =   190\n",
      "10 * 20 =   200\n"
     ]
    }
   ],
   "source": [
    "def multiplication():\n",
    "    number = int(input(\"Enter Number\"))\n",
    "    for i in range(1,21):\n",
    "        print (str(number) + \" * \" + str(i) + \" =   {0}\".format(number * i))\n",
    "multiplication()"
   ]
  },
  {
   "cell_type": "markdown",
   "metadata": {},
   "source": [
    "## 2. Write a program to print twin primes less than 1000. If two consecutive odd numbers are both prime then they are known as twin primes"
   ]
  },
  {
   "cell_type": "code",
   "execution_count": 100,
   "metadata": {},
   "outputs": [
    {
     "name": "stdout",
     "output_type": "stream",
     "text": [
      "**************************************************\n",
      "List of twin primes are:  [(3, 5), (5, 7), (11, 13), (17, 19), (29, 31), (41, 43), (59, 61), (71, 73), (101, 103), (107, 109), (137, 139), (149, 151), (179, 181), (191, 193), (197, 199), (227, 229), (239, 241), (269, 271), (281, 283), (311, 313), (347, 349), (419, 421), (431, 433), (461, 463), (521, 523), (569, 571), (599, 601), (617, 619), (641, 643), (659, 661), (809, 811), (821, 823), (827, 829), (857, 859), (881, 883)]\n",
      "**************************************************\n",
      "Number of twin primes between 0 and 1000 is 35\n"
     ]
    }
   ],
   "source": [
    "num1 = 1000\n",
    "\n",
    "nums = [ele for ele in range(2,num1) if all(ele%i != 0 for i in range(2,ele))] ## list of prime numbers upto 1000\n",
    "                                        ## If all ele%i is false for all elements then only take that element                   \n",
    "twinprimes = []                         ## as a prime number   \n",
    "for i in range(0,len(nums)-1):\n",
    "    if(abs(nums[i] - nums[i+1]) == 2):  ## calculating the absolute values of consequtive prime numbers\n",
    "        twinprimes.append((nums[i],nums[i+1])) ## If the difference is 2 then append to the twinprimes list\n",
    "print (\"*\"*50)        \n",
    "print (\"List of twin primes are: \",twinprimes)\n",
    "print (\"*\"*50)\n",
    "print (\"Number of twin primes between {0} and {upto} is {count}\".format(0,upto = num1,count = len(twinprimes)))"
   ]
  },
  {
   "cell_type": "markdown",
   "metadata": {},
   "source": [
    ".."
   ]
  },
  {
   "cell_type": "markdown",
   "metadata": {},
   "source": [
    "## 3. Write a program to find out the prime factors of a number. Example: prime factors of 56 - 2, 2, 2, 7"
   ]
  },
  {
   "cell_type": "code",
   "execution_count": 115,
   "metadata": {},
   "outputs": [
    {
     "name": "stdout",
     "output_type": "stream",
     "text": [
      "Enter the number to get prime factors36\n",
      "[2, 2, 9]\n"
     ]
    }
   ],
   "source": [
    "import math\n",
    "num1 = int(input(\"Enter the number to get prime factors\"))\n",
    "primefactors = []\n",
    "while(num1%2 == 0):             ## continue dividing by 2 and adding the 2 to prime factor list \n",
    "    primefactors.append(2)\n",
    "    num1 = num1/2               ## As the number is divisble by 2 divide the num with 2 \n",
    "for i in range(3,int(math.sqrt(num1))): ## Next looping from 3 to sqrt of num because max it can to the value of sqrt value\n",
    "    while(num1%i == 0):                 ## If number is divisible i    \n",
    "        primefactors.append(i)          ## Then add to primefactors list\n",
    "        num1 = num1/i                   \n",
    "    else:\n",
    "        i = i+2                         ## If the number is not divisible then increase 3 by 5\n",
    "if (num1>2):                            ## If number is greater than 2 \n",
    "    primefactors.append(int(num1))      ## directly append to prime factors list\n",
    "print (primefactors)\n",
    "## Reference from \"https://www.geeksforgeeks.org/print-all-prime-factors-of-a-given-number/\""
   ]
  },
  {
   "cell_type": "markdown",
   "metadata": {},
   "source": [
    "## 4. Write a program to implement these formulae of permutations and combinations. Number of permutations of n objects taken r at a time: p(n, r) = n! / (n-r)!. Number of combinations of n objects taken r at a time is: c(n, r) = n! / (r!*(n-r)!) = p(n,r) / r! "
   ]
  },
  {
   "cell_type": "code",
   "execution_count": 102,
   "metadata": {},
   "outputs": [
    {
     "name": "stdout",
     "output_type": "stream",
     "text": [
      "Enter the value of n6\n",
      "Enter the value of r3\n",
      "No of permutation are 120.0\n",
      "No of combinations are 20.0\n"
     ]
    }
   ],
   "source": [
    "def p(n,r):\n",
    "    if ( n > 0):\n",
    "        fact = factorial(n)         ##n!                  ## n P r = n!/(n-r)!\n",
    "        deno = factorial(abs(n-r))  ## (n-r)! \n",
    "    return fact/deno\n",
    "\n",
    "def factorial(n):\n",
    "    return 1 if (n == 0 or n == 1) else n*factorial(n-1)\n",
    "def c(n,r):\n",
    "    num = p(n,r)                                ## n c r = npr/r!\n",
    "    denom = factorial(r)\n",
    "    return num/denom\n",
    "n = int(input(\"Enter the value of n\"))\n",
    "r = int(input(\"Enter the value of r\"))\n",
    "print (\"No of permutation are {0}\".format(p(n,r)))\n",
    "print (\"No of combinations are {0}\".format(c(n,r)))"
   ]
  },
  {
   "cell_type": "markdown",
   "metadata": {},
   "source": [
    "## 5. Write a function that converts a decimal number to binary number"
   ]
  },
  {
   "cell_type": "code",
   "execution_count": 116,
   "metadata": {},
   "outputs": [
    {
     "name": "stdout",
     "output_type": "stream",
     "text": [
      "Enter the positive decimal Number: 10\n",
      "Binary conversion of 10 is 1 0 1 0\n"
     ]
    }
   ],
   "source": [
    "def dec2bin(num):\n",
    "    '''\n",
    "    This returns a binary number for a decimal number\n",
    "    '''\n",
    "    numbers = []               ###To store the binary digits \n",
    "    while (num > 0):\n",
    "        numbers.append(num%2)  ###Storing the remainder when num is divided by 2\n",
    "        num = int(num/2)       ##Dividing the num by 2 and stroing the result as num       \n",
    "    if (len(numbers)< 4 ):     ## If the length of binary digits is less than 4 it will append a 0 to it\n",
    "        numbers.append(0)\n",
    "    return \" \".join(str(i) for i in numbers[::-1])## As the join method takes only string converting list of integers to string\n",
    "\n",
    "number = int(input(\"Enter the positive decimal Number: \"))\n",
    "if (number < 0):\n",
    "    print (\"oops! please enter the positive number\")\n",
    "else:\n",
    "    print (\"Binary conversion of {0} is {1}\".format(number,dec2bin(number)))"
   ]
  },
  {
   "cell_type": "markdown",
   "metadata": {},
   "source": [
    "## 6. Write a function cubesum() that accepts an integer and returns the sum of the cubes of individual digits of that number. Use this function to make functions PrintArmstrong() and isArmstrong() to print Armstrong numbers and to find whether is an Armstrong number."
   ]
  },
  {
   "cell_type": "code",
   "execution_count": 104,
   "metadata": {},
   "outputs": [
    {
     "name": "stdout",
     "output_type": "stream",
     "text": [
      "Enter the number to find the cube sum of all digits: 156\n",
      "Cubesum of the number is 342: \n",
      "Armstrong number upto 156 are [0, 1, 153] \n",
      "156 is not an Armstrong Number\n"
     ]
    }
   ],
   "source": [
    "def cubesum(num):\n",
    "    '''\n",
    "    This function return the cube sum of the input number \n",
    "    '''\n",
    "    ## list(str(num)) --> This will convert integer num to string and string to list\n",
    "    ##for loop will loop through the above list and cube of element is calculated and stored in tuple\n",
    "    ## sum is a method which will return sum of all elements in a tuple or list\n",
    "    return sum((int(i)*int(i)*int(i) for i in list(str(num))))\n",
    "               \n",
    "def PrintArmstrong(num):\n",
    "    '''\n",
    "    This will print armstrong number\n",
    "    '''\n",
    "    armstrong_nums = []\n",
    "    sum_of_cubes = list(map(cubesum,[i for i in range(number+1)])) ## Getting the cube sum of numbers of a list\n",
    "    # comparing the cube sum matches with the real number \n",
    "    #zip command will get 1 element from 1 list and another from 2nd list\n",
    "    \n",
    "    for i ,x in zip(sum_of_cubes,[i for i in range(number+1)]):\n",
    "        if (int(i) == int(x)):\n",
    "               armstrong_nums.append(x)\n",
    "        else:\n",
    "               pass\n",
    "    return armstrong_nums\n",
    "def isArmstrong(num):\n",
    "    '''\n",
    "    This checks a number is armstrong number or not\n",
    "    '''\n",
    "    cube_sum = cubesum(num)\n",
    "    return True if (cube_sum == num) else False\n",
    "\n",
    "\n",
    "number = int(input(\"Enter the number to find the cube sum of all digits: \"))\n",
    "if (number >= 0):\n",
    "    print (\"Cubesum of the number is {0}: \".format(cubesum(number)))\n",
    "    print (\"Armstrong number upto {0} are {1} \".format(number,PrintArmstrong(number)))\n",
    "    if (isArmstrong(number)):\n",
    "        print (\"{0} is an Armstrong Number\".format(number))\n",
    "    else:\n",
    "        print (\"{0} is not an Armstrong Number\".format(number))\n",
    "else:\n",
    "    print (\"Oops! please enter the positive number\")\n",
    "    \n",
    "##Reference : https://stackoverflow.com/questions/32946714/arithmetic-operations-in-a-list"
   ]
  },
  {
   "cell_type": "markdown",
   "metadata": {},
   "source": [
    "## 7. Write a function prodDigits() that inputs a number and returns the product of digits of that number.\n"
   ]
  },
  {
   "cell_type": "code",
   "execution_count": 105,
   "metadata": {},
   "outputs": [
    {
     "name": "stdout",
     "output_type": "stream",
     "text": [
      "Enter a number to find product of all digits345\n",
      "60\n"
     ]
    }
   ],
   "source": [
    "def prodDigits(num = None):\n",
    "    if (num == None):          # This loop can be used if no argument was passed to this function\n",
    "        num = int(input(\"Enter a number to find product of all digits\"))\n",
    "    numlist = list(str(num))   # converting non iterable int object to string object so it can  be converted to list\n",
    "    prod = 1\n",
    "    for i in numlist:\n",
    "        prod *= int(i)         #looping through the string objects and converting them to int\n",
    "                               #As prod is not possible in string objects   \n",
    "    return prod\n",
    "print (prodDigits())"
   ]
  },
  {
   "cell_type": "markdown",
   "metadata": {},
   "source": [
    "## 8. If all digits of a number n are multiplied by each other repeating with the product, the one digit number obtained at last is called the multiplicative digital root of n. The number of times digits need to be multiplied to reach one digit is called the multiplicative persistance of n. Example: 86 -> 48 -> 32 -> 6 (MDR 6, MPersistence 3) 341 -> 12->2 (MDR 2, MPersistence 2) Using the function prodDigits() of previous exercise write functions MDR() and MPersistence() that input a number and return its multiplicative digital root and multiplicative persistence respectively"
   ]
  },
  {
   "cell_type": "code",
   "execution_count": 106,
   "metadata": {},
   "outputs": [
    {
     "name": "stdout",
     "output_type": "stream",
     "text": [
      "Enter the number to find the MDR341\n",
      "The MDR for 341 is [12, 2] and MPersistence is 2\n"
     ]
    }
   ],
   "source": [
    "def MDR():\n",
    "    num = input(\"Enter the number to find the MDR\") #convert input to list to find the length of input\n",
    "    digitalroots = []\n",
    "    while(len(num) > 1):                      # length of num is not greater than 1 then call prodDigits function\n",
    "                                        \n",
    "        digitalroots.append(int(num))         # appending the digital root to the list\n",
    "        num = str(prodDigits(int(num)))       # stores the output of prodDigts in num\n",
    "                                              # converting output of prodDigits to str or else while looping \n",
    "                                              # as int object does not have len argument\n",
    "    else:\n",
    "        digitalroots.append(int(num))         # If length is 1 then num is directly adding to the digital roots list    \n",
    "    return digitalroots\n",
    "\n",
    "def MPersistence(digitalroots):\n",
    "    m_persistence_count = 0\n",
    "    m_persistence_count = len(digitalroots) - 1# removing the first input number\n",
    "    return m_persistence_count\n",
    "digitalroots = MDR()\n",
    "print (\"The MDR for {number} is {roots} and MPersistence is {persistance}\"\\\n",
    "                .format(number = digitalroots[0], roots = digitalroots[1:] , persistance = MPersistence(digitalroots)))"
   ]
  },
  {
   "cell_type": "markdown",
   "metadata": {},
   "source": [
    "## 9. Write a function sumPdivisors() that finds the sum of proper divisors of a number. Proper divisors of a number are those numbers by which the number is divisible, except the number itself. For example proper divisors of 36 are 1, 2, 3, 4, 6, 9, 18"
   ]
  },
  {
   "cell_type": "code",
   "execution_count": 107,
   "metadata": {},
   "outputs": [
    {
     "name": "stdout",
     "output_type": "stream",
     "text": [
      "Enter number to find proper divisors: 52\n",
      "Sum of divisors for 52 is 46\n"
     ]
    }
   ],
   "source": [
    "def sumPdivisors(num = None):\n",
    "    try:\n",
    "        if num == None:\n",
    "            num = int(input(\"Enter number to find proper divisors: \"))\n",
    "        divisors = [i for i in range(1,num) if num%i == 0] # If the number is divisble in range of 1 to 35 then add to divisors list\n",
    "        return (num,divisors,sum(divisors))\n",
    "    except :\n",
    "        print (\"oops!\",sys.exc_info()[0],\"occured\")\n",
    "    \n",
    "divisors = sumPdivisors()\n",
    "print (\"Sum of divisors for {number} is {sum}\".format(number = divisors[0],sum = divisors[2]))"
   ]
  },
  {
   "cell_type": "markdown",
   "metadata": {},
   "source": [
    "## 10. A number is called perfect if the sum of proper divisors of that number is equal to the number. For example 28 is perfect number, since 1+2+4+7+14=28. Write a program to print all the perfect numbers in a given range "
   ]
  },
  {
   "cell_type": "code",
   "execution_count": 108,
   "metadata": {},
   "outputs": [
    {
     "name": "stdout",
     "output_type": "stream",
     "text": [
      "Enter the range to find perfect numbers100\n",
      "The perfect Numbers upto 100 are [6, 28]\n"
     ]
    }
   ],
   "source": [
    "def perfectnumbers(num):\n",
    "    perfect_numbers = []\n",
    "    for i in range(1,num+1):\n",
    "        p_divisors = sumPdivisors(i)\n",
    "        if (p_divisors[0] == p_divisors[2]):\n",
    "            perfect_numbers.append(i)\n",
    "        else:\n",
    "            pass\n",
    "    return perfect_numbers\n",
    "Number = int(input(\"Enter the range to find perfect numbers\"))\n",
    "print (\"The perfect Numbers upto {0} are {1}\".format(Number,perfectnumbers(Number)))"
   ]
  },
  {
   "cell_type": "markdown",
   "metadata": {},
   "source": [
    "## 11. Two different numbers are called amicable numbers if the sum of the proper divisors of each is equal to the other number. For example 220 and 284 are amicable numbers."
   ]
  },
  {
   "cell_type": "code",
   "execution_count": 109,
   "metadata": {},
   "outputs": [
    {
     "name": "stdout",
     "output_type": "stream",
     "text": [
      "Enter the number to find amicable numbers upto that range: 2000\n",
      "220 and 284 are amicable numbers\n",
      "1184 and 1210 are amicable numbers\n"
     ]
    }
   ],
   "source": [
    "def amicable(num):\n",
    "    divisors = {}\n",
    "    amicable = []\n",
    "    for i in range(1,num+1):        ## Calculating the positive divisors sum by using above function\n",
    "        Pdivisors = sumPdivisors(i)\n",
    "        divisors[Pdivisors[0]] = Pdivisors[2] ## storing the sum in a dictionary with key as num and value as sum\n",
    "    for key,val in divisors.items():  ## looping through the items of a dictionary\n",
    "        for i,j in divisors.items():\n",
    "            if val == i and j == key and key != val: ## If divisor sum is equal to num value and\\\n",
    "                amicable.append(key)                 ## then check the above number sum value is equal to key of above sum value\n",
    "                amicable.append(i)                   ## if key and value are having same number then it cannot be amicable  \n",
    "    amicable = list(set(amicable))                   ## It will give duplicates of amplicable numbers ex:(220,284) ,(284,220)\n",
    "                                                     ## removing the duplicates using set and converting to list again\n",
    "    for i in range(-1,len(amicable)-1,2):            ## looping from reverse order from a list 1210,1184,284,220\n",
    "        print (\"{0} and {1} are amicable numbers\".format(amicable[i-1],amicable[i]))\n",
    "                                                     ## printing amicable in particular order from lower to higher number   \n",
    "amicable(int(input(\"Enter the number to find amicable numbers upto that range: \")))"
   ]
  },
  {
   "cell_type": "markdown",
   "metadata": {},
   "source": [
    "## 12. Write a program which can filter odd numbers in a list by using filter function"
   ]
  },
  {
   "cell_type": "code",
   "execution_count": 110,
   "metadata": {},
   "outputs": [
    {
     "name": "stdout",
     "output_type": "stream",
     "text": [
      "Enter the number to find odd numbers upto that range: 10\n"
     ]
    },
    {
     "data": {
      "text/plain": [
       "[1, 3, 5, 7, 9]"
      ]
     },
     "execution_count": 110,
     "metadata": {},
     "output_type": "execute_result"
    }
   ],
   "source": [
    "def oddnumbers(x):\n",
    "    if (x%2 != 0):\n",
    "        return True\n",
    "odd = list(filter(oddnumbers, [i for i in range(int(input(\"Enter the number to find odd numbers upto that range: \"))+1)]))\n",
    "odd"
   ]
  },
  {
   "cell_type": "markdown",
   "metadata": {},
   "source": [
    "## 13. Write a program which can map() to make a list whose elements are cube of elements in a given list"
   ]
  },
  {
   "cell_type": "code",
   "execution_count": 111,
   "metadata": {},
   "outputs": [
    {
     "name": "stdout",
     "output_type": "stream",
     "text": [
      "Enter the number to find cubes upto that range: 10\n"
     ]
    },
    {
     "data": {
      "text/plain": [
       "[0, 1, 8, 27, 64, 125, 216, 343, 512, 729, 1000]"
      ]
     },
     "execution_count": 111,
     "metadata": {},
     "output_type": "execute_result"
    }
   ],
   "source": [
    "def cube(num):\n",
    "    return num*num*num\n",
    "cubes = list(map(cube,[i for i in range(int(input(\"Enter the number to find cubes upto that range: \"))+1)]))\n",
    "cubes"
   ]
  },
  {
   "cell_type": "markdown",
   "metadata": {},
   "source": [
    "## 14. Write a program which can map() and filter() to make a list whose elements are cube of even number in a given list"
   ]
  },
  {
   "cell_type": "code",
   "execution_count": 113,
   "metadata": {},
   "outputs": [
    {
     "name": "stdout",
     "output_type": "stream",
     "text": [
      "Enter number to find cubes: 10\n"
     ]
    },
    {
     "data": {
      "text/plain": [
       "[0, 8, 64, 216, 512, 1000]"
      ]
     },
     "execution_count": 113,
     "metadata": {},
     "output_type": "execute_result"
    }
   ],
   "source": [
    "def even(num):\n",
    "    return True if num%2 == 0 else False                         ## maps list of 10 numbers to cube function   \n",
    "even_cubes = list(filter(even,map(cube, [i for i in range(int(input(\"Enter number to find cubes: \"))+1)])))\n",
    "even_cubes                                                       ## filter the cube values which are even number"
   ]
  }
 ],
 "metadata": {
  "kernelspec": {
   "display_name": "Python 3",
   "language": "python",
   "name": "python3"
  },
  "language_info": {
   "codemirror_mode": {
    "name": "ipython",
    "version": 3
   },
   "file_extension": ".py",
   "mimetype": "text/x-python",
   "name": "python",
   "nbconvert_exporter": "python",
   "pygments_lexer": "ipython3",
   "version": "3.7.3"
  }
 },
 "nbformat": 4,
 "nbformat_minor": 2
}
