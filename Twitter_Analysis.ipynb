{
  "nbformat": 4,
  "nbformat_minor": 0,
  "metadata": {
    "colab": {
      "name": "Twitter_Analysis.ipynb",
      "provenance": [],
      "collapsed_sections": [],
      "authorship_tag": "ABX9TyNNHKWdQLOVCAvxD39offTh",
      "include_colab_link": true
    },
    "kernelspec": {
      "name": "python3",
      "display_name": "Python 3"
    },
    "language_info": {
      "name": "python"
    }
  },
  "cells": [
    {
      "cell_type": "markdown",
      "metadata": {
        "id": "view-in-github",
        "colab_type": "text"
      },
      "source": [
        "<a href=\"https://colab.research.google.com/github/gnaneshvemuri/DataScience/blob/master/Twitter_Analysis.ipynb\" target=\"_parent\"><img src=\"https://colab.research.google.com/assets/colab-badge.svg\" alt=\"Open In Colab\"/></a>"
      ]
    },
    {
      "cell_type": "code",
      "execution_count": 12,
      "metadata": {
        "id": "5m0cbR60pv2V"
      },
      "outputs": [],
      "source": [
        "CONSUMER_API_KEY = \"dMD2oF172hLvRx467wHEI9QbA\"\n",
        "CONSUMER_API_SECRET = \"ZhOuzRD7MyJ3CZDusPq8wFktYxXfIpwsDC3Eegxw9961Dw9fMF\"\n",
        "ACCESS_TOKEN = \"899866328-wpG3cmnNBfE3sxTd0RAcgbNTwPwaZKpSOFMqWeVr\"\n",
        "ACCESS_TOKEN_SECRET = \"8YdkOSUeHt5Lr6QTLwiJkwZbxEtBpM3Qa80mKkc5ACEmx\"\n",
        "BEARER_TOKEN = \"AAAAAAAAAAAAAAAAAAAAADMeZAEAAAAAbWD3xUbn2NXNsHi1d71w%2FR%2FHflk%3DshotBl8Earmk58oLsVDjf7Hl0YUtgpRbKgVfL1eUfSIROJy2k9\""
      ]
    },
    {
      "cell_type": "markdown",
      "source": [
        ""
      ],
      "metadata": {
        "id": "e6H1ZUKpLS9r"
      }
    },
    {
      "cell_type": "code",
      "source": [
        "import tweepy as tw\n",
        "from tweepy import OAuthHandler # Used for authentication"
      ],
      "metadata": {
        "id": "3H_-daJ8yj7H"
      },
      "execution_count": 13,
      "outputs": []
    },
    {
      "cell_type": "markdown",
      "source": [
        "### Get Tweets"
      ],
      "metadata": {
        "id": "BRCdd5cz0hfJ"
      }
    },
    {
      "cell_type": "code",
      "source": [
        "## Create an authentication object\n",
        "auth = tw.OAuthHandler(CONSUMER_API_KEY, CONSUMER_API_SECRET)\n",
        "auth.set_access_token(ACCESS_TOKEN, ACCESS_TOKEN_SECRET)"
      ],
      "metadata": {
        "id": "CRDwK9st0czh"
      },
      "execution_count": 20,
      "outputs": []
    },
    {
      "cell_type": "code",
      "source": [
        "## Create an API object using auth\n",
        "my_api = tw.API(auth, wait_on_rate_limit=True)"
      ],
      "metadata": {
        "id": "TkE2ZQ0I1L5o"
      },
      "execution_count": 15,
      "outputs": []
    },
    {
      "cell_type": "code",
      "source": [
        "##Get my tweets\n",
        "my_tweets = my_api.home_timeline()\n",
        "\n",
        "\n",
        "\n",
        "for tweet in my_tweets:\n",
        "  print(\"\\n\", tweet.created_at, \"\\n \", tweet.user.screen_name, \"\\n\", tweet.user.location , \"\\n\", tweet.text)"
      ],
      "metadata": {
        "colab": {
          "base_uri": "https://localhost:8080/"
        },
        "id": "RMXmMNF4GmPQ",
        "outputId": "62a5195e-0f4b-4ea0-bbf8-e50f628d01ee"
      },
      "execution_count": 22,
      "outputs": [
        {
          "output_type": "stream",
          "name": "stdout",
          "text": [
            "\n",
            " 2022-02-08 21:30:31 \n",
            "  CitImmCanada \n",
            " Canada \n",
            " Register your account to check the status of your spouse, partner, or dependent child permanent residence applicati… https://t.co/LZXNNWqtG1\n",
            "\n",
            " 2022-02-08 21:30:30 \n",
            "  CitImmCanada \n",
            " Canada \n",
            " This tool helps clients keep track of their application and any actions required to keep it moving as quickly as po… https://t.co/oAv4XSVvAq\n",
            "\n",
            " 2022-02-08 21:30:29 \n",
            "  CitImmCanada \n",
            " Canada \n",
            " Today we announced a new digital case status tracker that will make it easier for some family class permanent resid… https://t.co/L6F8xodiZw\n",
            "\n",
            " 2022-02-08 20:00:19 \n",
            "  shrutihaasan \n",
            " India \n",
            " Thankyou so much sir 🙏 https://t.co/AXbUc4lpLp\n",
            "\n",
            " 2022-02-08 20:00:02 \n",
            "  shrutihaasan \n",
            " India \n",
            " Thankyou so much !!! https://t.co/XYcfkXD7Yn\n",
            "\n",
            " 2022-02-08 19:59:48 \n",
            "  shrutihaasan \n",
            " India \n",
            " Thankyou shaneeem https://t.co/IfCEeumzlN\n",
            "\n",
            " 2022-02-08 19:59:29 \n",
            "  shrutihaasan \n",
            " India \n",
            " Thankyou Sanju!!! https://t.co/B5Vuh4B56n\n",
            "\n",
            " 2022-02-08 19:59:07 \n",
            "  shrutihaasan \n",
            " India \n",
            " Thankyou Yuvraj !!!!🙏 https://t.co/D3QVYzTPOm\n",
            "\n",
            " 2022-02-08 19:58:51 \n",
            "  shrutihaasan \n",
            " India \n",
            " Thankyou so much sir !!!! https://t.co/AMX16vGEEX\n",
            "\n",
            " 2022-02-08 19:58:39 \n",
            "  shrutihaasan \n",
            " India \n",
            " Thankyou Gopi garu!!!! https://t.co/GIxFobvrcp\n",
            "\n",
            " 2022-02-08 19:15:57 \n",
            "  UrvashiRautela \n",
            " Mumbai, India \n",
            " Where you’ll find me 🎨 🏡 \n",
            "\n",
            "☆\n",
            "\n",
            "☆ \n",
            "\n",
            "☆\n",
            "\n",
            "☆\n",
            "\n",
            "☆\n",
            "\n",
            "☆\n",
            "\n",
            "☆\n",
            "\n",
            "☆\n",
            "\n",
            "☆\n",
            "\n",
            "☆\n",
            "\n",
            "☆\n",
            "\n",
            "☆\n",
            "\n",
            "☆\n",
            "\n",
            "☆ \n",
            "\n",
            "☆\n",
            "\n",
            "☆\n",
            "\n",
            "☆\n",
            "\n",
            "#love #UrvashiRautela https://t.co/7HLdHepiWm\n",
            "\n",
            " 2022-02-08 17:07:06 \n",
            "  MayantiLanger_B \n",
            "  \n",
            " I mean if it ain’t broke… 🤷🏻‍♀️ Any changes for the 2nd ODI? Drop a line 👇🏼 #INDvsWI\n",
            "\n",
            "Presented by @DafanewsIndia… https://t.co/7gQxK0zDND\n",
            "\n",
            " 2022-02-08 15:06:11 \n",
            "  RafaelNadal \n",
            " Manacor \n",
            " Hey all @FanJoltLive is launching today w/giveaways &amp; JOLTS all while raising money for charity! Want to win a FREE… https://t.co/cQ9IsxhkDP\n",
            "\n",
            " 2022-02-08 13:57:55 \n",
            "  TeamVirat \n",
            "  \n",
            " RT @WisdenIndia: Virat Kohli is the only India batter to score over 1,000 runs in ODIs since the end of the 2019 World Cup. \n",
            "\n",
            "He has also s…\n",
            "\n",
            " 2022-02-08 11:00:54 \n",
            "  CitImmCanada \n",
            " Canada \n",
            " Our online services were recently unavailable. Be sure to clear your internet browser cache: https://t.co/6CRa8svrxW\n",
            "\n",
            " 2022-02-08 10:56:19 \n",
            "  CanadainIndia \n",
            " India \n",
            " #IDW2022\n",
            "🇨🇦 was pleased to partner with @AKF_India to brief community mobilisers in #Bahraich, UP, on the links bet… https://t.co/mnLUMZq1Um\n",
            "\n",
            " 2022-02-08 08:12:50 \n",
            "  CanadainIndia \n",
            " India \n",
            " #IDW2022\n",
            "While the #COVID19 pandemic continues to impact people and countries around the world, there is no doubt t… https://t.co/jfLYyGctVM\n",
            "\n",
            " 2022-02-08 07:51:54 \n",
            "  shrutihaasan \n",
            " India \n",
            " Some stories respawn old wounds, some avenge them! Watch the suspense unfold with #BestsellerOnPrime, Feb 18th\n",
            "\n",
            "📽️:… https://t.co/smXTFkgWS7\n",
            "\n",
            " 2022-02-08 07:46:21 \n",
            "  Vaaniofficial \n",
            " india \n",
            " I like big boots and i cannot lieeee 👢😛👀🎶\n",
            "\n",
            "@HELLOmagIndia\n",
            "\n",
            "Editor: Ruchika Mehta \n",
            "Interview: Nayare Ali \n",
            "Photos: Ta… https://t.co/0nIMzsLO5r\n",
            "\n",
            " 2022-02-08 07:37:01 \n",
            "  ihansika \n",
            "  \n",
            " RT @igtamil: Pretty @ihansika 🤩\n",
            "\n",
            "#HansikaMotwani #Hansika #TamilCinema \n",
            "\n",
            "For more images at https://t.co/hmoZcC1W5j https://t.co/nDm3HU3Kjj\n"
          ]
        }
      ]
    },
    {
      "cell_type": "markdown",
      "source": [
        "### Processing the Tweets"
      ],
      "metadata": {
        "id": "Rfurcl0COD6G"
      }
    },
    {
      "cell_type": "code",
      "source": [
        "## Posting a tweet\n"
      ],
      "metadata": {
        "id": "yOKaDncE1gMX"
      },
      "execution_count": 17,
      "outputs": []
    },
    {
      "cell_type": "code",
      "source": [
        "my_api.update_status(\"Hey, whatsapp how you guys are doing\")"
      ],
      "metadata": {
        "id": "UqhHPx6o9Zh5",
        "colab": {
          "base_uri": "https://localhost:8080/"
        },
        "outputId": "3e38751d-d0bf-4eeb-b95d-d883f9701833"
      },
      "execution_count": 19,
      "outputs": [
        {
          "output_type": "execute_result",
          "data": {
            "text/plain": [
              "Status(_api=<tweepy.api.API object at 0x7f3017fb1050>, _json={'created_at': 'Wed Feb 09 02:05:50 +0000 2022', 'id': 1491231838433591297, 'id_str': '1491231838433591297', 'text': 'Hey, whatsapp how you guys are doing', 'truncated': False, 'entities': {'hashtags': [], 'symbols': [], 'user_mentions': [], 'urls': []}, 'source': '<a href=\"http://moodle.com\" rel=\"nofollow\">twitter_integration_gnanesh</a>', 'in_reply_to_status_id': None, 'in_reply_to_status_id_str': None, 'in_reply_to_user_id': None, 'in_reply_to_user_id_str': None, 'in_reply_to_screen_name': None, 'user': {'id': 899866328, 'id_str': '899866328', 'name': 'gnanesh', 'screen_name': 'gnaneshntr', 'location': 'Repalle', 'description': 'badminton lover', 'url': None, 'entities': {'description': {'urls': []}}, 'protected': True, 'followers_count': 8, 'friends_count': 58, 'listed_count': 0, 'created_at': 'Tue Oct 23 13:07:14 +0000 2012', 'favourites_count': 167, 'utc_offset': None, 'time_zone': None, 'geo_enabled': True, 'verified': False, 'statuses_count': 103, 'lang': None, 'contributors_enabled': False, 'is_translator': False, 'is_translation_enabled': False, 'profile_background_color': 'C0DEED', 'profile_background_image_url': 'http://abs.twimg.com/images/themes/theme1/bg.png', 'profile_background_image_url_https': 'https://abs.twimg.com/images/themes/theme1/bg.png', 'profile_background_tile': False, 'profile_image_url': 'http://pbs.twimg.com/profile_images/714489663248068608/P2SvBZtJ_normal.jpg', 'profile_image_url_https': 'https://pbs.twimg.com/profile_images/714489663248068608/P2SvBZtJ_normal.jpg', 'profile_banner_url': 'https://pbs.twimg.com/profile_banners/899866328/1460025448', 'profile_link_color': '1DA1F2', 'profile_sidebar_border_color': 'C0DEED', 'profile_sidebar_fill_color': 'DDEEF6', 'profile_text_color': '333333', 'profile_use_background_image': True, 'has_extended_profile': True, 'default_profile': True, 'default_profile_image': False, 'following': False, 'follow_request_sent': False, 'notifications': False, 'translator_type': 'none', 'withheld_in_countries': []}, 'geo': None, 'coordinates': None, 'place': None, 'contributors': None, 'is_quote_status': False, 'retweet_count': 0, 'favorite_count': 0, 'favorited': False, 'retweeted': False, 'lang': 'en'}, created_at=datetime.datetime(2022, 2, 9, 2, 5, 50), id=1491231838433591297, id_str='1491231838433591297', text='Hey, whatsapp how you guys are doing', truncated=False, entities={'hashtags': [], 'symbols': [], 'user_mentions': [], 'urls': []}, source='twitter_integration_gnanesh', source_url='http://moodle.com', in_reply_to_status_id=None, in_reply_to_status_id_str=None, in_reply_to_user_id=None, in_reply_to_user_id_str=None, in_reply_to_screen_name=None, author=User(_api=<tweepy.api.API object at 0x7f3017fb1050>, _json={'id': 899866328, 'id_str': '899866328', 'name': 'gnanesh', 'screen_name': 'gnaneshntr', 'location': 'Repalle', 'description': 'badminton lover', 'url': None, 'entities': {'description': {'urls': []}}, 'protected': True, 'followers_count': 8, 'friends_count': 58, 'listed_count': 0, 'created_at': 'Tue Oct 23 13:07:14 +0000 2012', 'favourites_count': 167, 'utc_offset': None, 'time_zone': None, 'geo_enabled': True, 'verified': False, 'statuses_count': 103, 'lang': None, 'contributors_enabled': False, 'is_translator': False, 'is_translation_enabled': False, 'profile_background_color': 'C0DEED', 'profile_background_image_url': 'http://abs.twimg.com/images/themes/theme1/bg.png', 'profile_background_image_url_https': 'https://abs.twimg.com/images/themes/theme1/bg.png', 'profile_background_tile': False, 'profile_image_url': 'http://pbs.twimg.com/profile_images/714489663248068608/P2SvBZtJ_normal.jpg', 'profile_image_url_https': 'https://pbs.twimg.com/profile_images/714489663248068608/P2SvBZtJ_normal.jpg', 'profile_banner_url': 'https://pbs.twimg.com/profile_banners/899866328/1460025448', 'profile_link_color': '1DA1F2', 'profile_sidebar_border_color': 'C0DEED', 'profile_sidebar_fill_color': 'DDEEF6', 'profile_text_color': '333333', 'profile_use_background_image': True, 'has_extended_profile': True, 'default_profile': True, 'default_profile_image': False, 'following': False, 'follow_request_sent': False, 'notifications': False, 'translator_type': 'none', 'withheld_in_countries': []}, id=899866328, id_str='899866328', name='gnanesh', screen_name='gnaneshntr', location='Repalle', description='badminton lover', url=None, entities={'description': {'urls': []}}, protected=True, followers_count=8, friends_count=58, listed_count=0, created_at=datetime.datetime(2012, 10, 23, 13, 7, 14), favourites_count=167, utc_offset=None, time_zone=None, geo_enabled=True, verified=False, statuses_count=103, lang=None, contributors_enabled=False, is_translator=False, is_translation_enabled=False, profile_background_color='C0DEED', profile_background_image_url='http://abs.twimg.com/images/themes/theme1/bg.png', profile_background_image_url_https='https://abs.twimg.com/images/themes/theme1/bg.png', profile_background_tile=False, profile_image_url='http://pbs.twimg.com/profile_images/714489663248068608/P2SvBZtJ_normal.jpg', profile_image_url_https='https://pbs.twimg.com/profile_images/714489663248068608/P2SvBZtJ_normal.jpg', profile_banner_url='https://pbs.twimg.com/profile_banners/899866328/1460025448', profile_link_color='1DA1F2', profile_sidebar_border_color='C0DEED', profile_sidebar_fill_color='DDEEF6', profile_text_color='333333', profile_use_background_image=True, has_extended_profile=True, default_profile=True, default_profile_image=False, following=False, follow_request_sent=False, notifications=False, translator_type='none', withheld_in_countries=[]), user=User(_api=<tweepy.api.API object at 0x7f3017fb1050>, _json={'id': 899866328, 'id_str': '899866328', 'name': 'gnanesh', 'screen_name': 'gnaneshntr', 'location': 'Repalle', 'description': 'badminton lover', 'url': None, 'entities': {'description': {'urls': []}}, 'protected': True, 'followers_count': 8, 'friends_count': 58, 'listed_count': 0, 'created_at': 'Tue Oct 23 13:07:14 +0000 2012', 'favourites_count': 167, 'utc_offset': None, 'time_zone': None, 'geo_enabled': True, 'verified': False, 'statuses_count': 103, 'lang': None, 'contributors_enabled': False, 'is_translator': False, 'is_translation_enabled': False, 'profile_background_color': 'C0DEED', 'profile_background_image_url': 'http://abs.twimg.com/images/themes/theme1/bg.png', 'profile_background_image_url_https': 'https://abs.twimg.com/images/themes/theme1/bg.png', 'profile_background_tile': False, 'profile_image_url': 'http://pbs.twimg.com/profile_images/714489663248068608/P2SvBZtJ_normal.jpg', 'profile_image_url_https': 'https://pbs.twimg.com/profile_images/714489663248068608/P2SvBZtJ_normal.jpg', 'profile_banner_url': 'https://pbs.twimg.com/profile_banners/899866328/1460025448', 'profile_link_color': '1DA1F2', 'profile_sidebar_border_color': 'C0DEED', 'profile_sidebar_fill_color': 'DDEEF6', 'profile_text_color': '333333', 'profile_use_background_image': True, 'has_extended_profile': True, 'default_profile': True, 'default_profile_image': False, 'following': False, 'follow_request_sent': False, 'notifications': False, 'translator_type': 'none', 'withheld_in_countries': []}, id=899866328, id_str='899866328', name='gnanesh', screen_name='gnaneshntr', location='Repalle', description='badminton lover', url=None, entities={'description': {'urls': []}}, protected=True, followers_count=8, friends_count=58, listed_count=0, created_at=datetime.datetime(2012, 10, 23, 13, 7, 14), favourites_count=167, utc_offset=None, time_zone=None, geo_enabled=True, verified=False, statuses_count=103, lang=None, contributors_enabled=False, is_translator=False, is_translation_enabled=False, profile_background_color='C0DEED', profile_background_image_url='http://abs.twimg.com/images/themes/theme1/bg.png', profile_background_image_url_https='https://abs.twimg.com/images/themes/theme1/bg.png', profile_background_tile=False, profile_image_url='http://pbs.twimg.com/profile_images/714489663248068608/P2SvBZtJ_normal.jpg', profile_image_url_https='https://pbs.twimg.com/profile_images/714489663248068608/P2SvBZtJ_normal.jpg', profile_banner_url='https://pbs.twimg.com/profile_banners/899866328/1460025448', profile_link_color='1DA1F2', profile_sidebar_border_color='C0DEED', profile_sidebar_fill_color='DDEEF6', profile_text_color='333333', profile_use_background_image=True, has_extended_profile=True, default_profile=True, default_profile_image=False, following=False, follow_request_sent=False, notifications=False, translator_type='none', withheld_in_countries=[]), geo=None, coordinates=None, place=None, contributors=None, is_quote_status=False, retweet_count=0, favorite_count=0, favorited=False, retweeted=False, lang='en')"
            ]
          },
          "metadata": {},
          "execution_count": 19
        }
      ]
    },
    {
      "cell_type": "code",
      "source": [
        ""
      ],
      "metadata": {
        "id": "6K-au3dxOjYy"
      },
      "execution_count": null,
      "outputs": []
    }
  ]
}